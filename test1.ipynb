{
 "cells": [
  {
   "cell_type": "code",
   "execution_count": 6,
   "metadata": {},
   "outputs": [
    {
     "name": "stdout",
     "output_type": "stream",
     "text": [
      "Tach cau: ['Ngôn ngữ là một hệ thống giao tiếp có cấu trúc được sử dụng bởi con người.', 'Cấu trúc của ngôn ngữ được gọi là ngữ pháp, còn các thành phần tự do của nó được gọi là từ vựng.', 'Ngôn ngữ là phương tiện giao tiếp chính của con người, tồn tại ở dạng lời nói, ký hiệu hoặc chữ viết.', 'Phần lớn các ngôn ngữ trên thế giới sở hữu các hệ chữ viết có chức năng ký âm và bảo tồn lời nói.', 'Trong số các hệ thống giao tiếp ở động vật, ngôn ngữ của con người độc đáo ở nhiều điểm như: nó không phụ thuộc vào một phương thức truyền tải duy nhất nào, nó khác biệt giữa từng nền văn hóa và từng giai đoạn lịch sử, và nó có phạm vi biểu đạt rộng hơn nhiều so với các hệ thống khác.']\n",
      "Tach tu: ['Ngôn', 'ngữ', 'là', 'một', 'hệ', 'thống', 'giao', 'tiếp', 'có', 'cấu', 'trúc', 'được', 'sử', 'dụng', 'bởi', 'con', 'người', '', 'Cấu', 'trúc', 'của', 'ngôn', 'ngữ', 'được', 'gọi', 'là', 'ngữ', 'pháp,', 'còn', 'các', 'thành', 'phần', 'tự', 'do', 'của', 'nó', 'được', 'gọi', 'là', 'từ', 'vựng', '', 'Ngôn', 'ngữ', 'là', 'phương', 'tiện', 'giao', 'tiếp', 'chính', 'của', 'con', 'người,', 'tồn', 'tại', 'ở', 'dạng', 'lời', 'nói,', 'ký', 'hiệu', 'hoặc', 'chữ', 'viết', '', 'Phần', 'lớn', 'các', 'ngôn', 'ngữ', 'trên', 'thế', 'giới', 'sở', 'hữu', 'các', 'hệ', 'chữ', 'viết', 'có', 'chức', 'năng', 'ký', 'âm', 'và', 'bảo', 'tồn', 'lời', 'nói', '', 'Trong', 'số', 'các', 'hệ', 'thống', 'giao', 'tiếp', 'ở', 'động', 'vật,', 'ngôn', 'ngữ', 'của', 'con', 'người', 'độc', 'đáo', 'ở', 'nhiều', 'điểm', 'như:', 'nó', 'không', 'phụ', 'thuộc', 'vào', 'một', 'phương', 'thức', 'truyền', 'tải', 'duy', 'nhất', 'nào,', 'nó', 'khác', 'biệt', 'giữa', 'từng', 'nền', 'văn', 'hóa', 'và', 'từng', 'giai', 'đoạn', 'lịch', 'sử,', 'và', 'nó', 'có', 'phạm', 'vi', 'biểu', 'đạt', 'rộng', 'hơn', 'nhiều', 'so', 'với', 'các', 'hệ', 'thống', 'khác']\n"
     ]
    },
    {
     "ename": "FileNotFoundError",
     "evalue": "[Errno 2] No such file or directory: 'allkeys-15.0.0.txt'",
     "output_type": "error",
     "traceback": [
      "\u001b[1;31m---------------------------------------------------------------------------\u001b[0m",
      "\u001b[1;31mFileNotFoundError\u001b[0m                         Traceback (most recent call last)",
      "Cell \u001b[1;32mIn[6], line 43\u001b[0m\n\u001b[0;32m     41\u001b[0m \u001b[38;5;28mprint\u001b[39m(\u001b[38;5;124mf\u001b[39m\u001b[38;5;124m\"\u001b[39m\u001b[38;5;124mTach cau: \u001b[39m\u001b[38;5;132;01m{\u001b[39;00mSentSeg()\u001b[38;5;132;01m}\u001b[39;00m\u001b[38;5;124m\"\u001b[39m)\n\u001b[0;32m     42\u001b[0m \u001b[38;5;28mprint\u001b[39m(\u001b[38;5;124mf\u001b[39m\u001b[38;5;124m\"\u001b[39m\u001b[38;5;124mTach tu: \u001b[39m\u001b[38;5;132;01m{\u001b[39;00mWordSeg()\u001b[38;5;132;01m}\u001b[39;00m\u001b[38;5;124m\"\u001b[39m)\n\u001b[1;32m---> 43\u001b[0m \u001b[38;5;28mprint\u001b[39m(\u001b[38;5;124mf\u001b[39m\u001b[38;5;124m\"\u001b[39m\u001b[38;5;124mThong ke \u001b[39m\u001b[38;5;132;01m{\u001b[39;00m\u001b[43mWordFrequency\u001b[49m\u001b[43m(\u001b[49m\u001b[43m)\u001b[49m\u001b[38;5;132;01m}\u001b[39;00m\u001b[38;5;124m\"\u001b[39m)\n",
      "Cell \u001b[1;32mIn[6], line 37\u001b[0m, in \u001b[0;36mWordFrequency\u001b[1;34m()\u001b[0m\n\u001b[0;32m     34\u001b[0m \u001b[38;5;28;01mfor\u001b[39;00m word \u001b[38;5;129;01min\u001b[39;00m word_array:\n\u001b[0;32m     35\u001b[0m     word_freq[word] \u001b[38;5;241m=\u001b[39m word_freq\u001b[38;5;241m.\u001b[39mget(word, \u001b[38;5;241m0\u001b[39m) \u001b[38;5;241m+\u001b[39m \u001b[38;5;241m1\u001b[39m\n\u001b[1;32m---> 37\u001b[0m collator \u001b[38;5;241m=\u001b[39m \u001b[43mpyuca\u001b[49m\u001b[38;5;241;43m.\u001b[39;49m\u001b[43mCollator\u001b[49m\u001b[43m(\u001b[49m\u001b[38;5;124;43m\"\u001b[39;49m\u001b[38;5;124;43mallkeys-15.0.0.txt\u001b[39;49m\u001b[38;5;124;43m\"\u001b[39;49m\u001b[43m)\u001b[49m \n\u001b[0;32m     38\u001b[0m sorted_word_freq \u001b[38;5;241m=\u001b[39m \u001b[38;5;28msorted\u001b[39m(word_freq\u001b[38;5;241m.\u001b[39mitems(), key\u001b[38;5;241m=\u001b[39mcollator\u001b[38;5;241m.\u001b[39msort_key)\n\u001b[0;32m     39\u001b[0m \u001b[38;5;28;01mreturn\u001b[39;00m sorted_word_freq\n",
      "File \u001b[1;32mc:\\Users\\GIGABYTE\\AppData\\Local\\Programs\\Python\\Python312\\Lib\\site-packages\\pyuca\\collator.py:47\u001b[0m, in \u001b[0;36mBaseCollator.__init__\u001b[1;34m(self, filename)\u001b[0m\n\u001b[0;32m     45\u001b[0m \u001b[38;5;28mself\u001b[39m\u001b[38;5;241m.\u001b[39mtable \u001b[38;5;241m=\u001b[39m Trie()\n\u001b[0;32m     46\u001b[0m \u001b[38;5;28mself\u001b[39m\u001b[38;5;241m.\u001b[39mimplicit_weights \u001b[38;5;241m=\u001b[39m []\n\u001b[1;32m---> 47\u001b[0m \u001b[38;5;28;43mself\u001b[39;49m\u001b[38;5;241;43m.\u001b[39;49m\u001b[43mload\u001b[49m\u001b[43m(\u001b[49m\u001b[43mfilename\u001b[49m\u001b[43m)\u001b[49m\n",
      "File \u001b[1;32mc:\\Users\\GIGABYTE\\AppData\\Local\\Programs\\Python\\Python312\\Lib\\site-packages\\pyuca\\collator.py:50\u001b[0m, in \u001b[0;36mBaseCollator.load\u001b[1;34m(self, filename)\u001b[0m\n\u001b[0;32m     49\u001b[0m \u001b[38;5;28;01mdef\u001b[39;00m \u001b[38;5;21mload\u001b[39m(\u001b[38;5;28mself\u001b[39m, filename):\n\u001b[1;32m---> 50\u001b[0m     \u001b[38;5;28;01mwith\u001b[39;00m \u001b[38;5;28;43mopen\u001b[39;49m\u001b[43m(\u001b[49m\u001b[43mfilename\u001b[49m\u001b[43m)\u001b[49m \u001b[38;5;28;01mas\u001b[39;00m keys_file:\n\u001b[0;32m     51\u001b[0m         \u001b[38;5;28;01mfor\u001b[39;00m line \u001b[38;5;129;01min\u001b[39;00m keys_file:\n\u001b[0;32m     52\u001b[0m             line \u001b[38;5;241m=\u001b[39m line\u001b[38;5;241m.\u001b[39msplit(\u001b[38;5;124m\"\u001b[39m\u001b[38;5;124m#\u001b[39m\u001b[38;5;124m\"\u001b[39m, \u001b[38;5;241m1\u001b[39m)[\u001b[38;5;241m0\u001b[39m]\u001b[38;5;241m.\u001b[39mrstrip()\n",
      "\u001b[1;31mFileNotFoundError\u001b[0m: [Errno 2] No such file or directory: 'allkeys-15.0.0.txt'"
     ]
    }
   ],
   "source": [
    "from pyuca import Collator\n",
    "\n",
    "collator = Collator()\n",
    "\n",
    "s = \"Ngôn ngữ là một hệ thống giao tiếp có cấu trúc được sử dụng bởi con người. Cấu trúc của ngôn ngữ được gọi là ngữ pháp, còn các thành phần tự do của nó được gọi là từ vựng. Ngôn ngữ là phương tiện giao tiếp chính của con người, tồn tại ở dạng lời nói, ký hiệu hoặc chữ viết. Phần lớn các ngôn ngữ trên thế giới sở hữu các hệ chữ viết có chức năng ký âm và bảo tồn lời nói. Trong số các hệ thống giao tiếp ở động vật, ngôn ngữ của con người độc đáo ở nhiều điểm như: nó không phụ thuộc vào một phương thức truyền tải duy nhất nào, nó khác biệt giữa từng nền văn hóa và từng giai đoạn lịch sử, và nó có phạm vi biểu đạt rộng hơn nhiều so với các hệ thống khác.\"\n",
    "\n",
    "# Tách câu (SentSeg)\n",
    "def SentSeg():\n",
    "    sentence = \"\"\n",
    "    sentence_array = []\n",
    "    for i in range(len(s)):\n",
    "        if s[i] != \".\":\n",
    "            sentence += s[i]\n",
    "        else:\n",
    "            sentence += s[i] \n",
    "            sentence_array.append(sentence.strip()) \n",
    "            sentence = \"\"\n",
    "    return sentence_array\n",
    "\n",
    "# Tách từ (WordSeg)\n",
    "def WordSeg():\n",
    "    word = \"\"\n",
    "    word_array = []\n",
    "    for i in range(len(s)):\n",
    "        if (s[i] != \".\" and s[i] != \" \"):\n",
    "            word += s[i]\n",
    "        else:\n",
    "            word_array.append(word.strip())\n",
    "            word =\"\"\n",
    "    return word_array\n",
    "\n",
    "# Thống kê tần số xuất hiện của các từ (sort theo alphabet)\n",
    "def WordFrequency():\n",
    "    word_array = WordSeg()\n",
    "    word_freq = {}\n",
    "    for word in word_array:\n",
    "        word_freq[word] = word_freq.get(word, 0) + 1\n",
    "    sorted_word_freq = dict(sorted(word_freq.items(), key=lambda x: collator.sort_key(x[0])))\n",
    "    return sorted_word_freq\n",
    "\n",
    "print(f\"Tach cau: {SentSeg()}\")\n",
    "print(f\"Tach tu: {WordSeg()}\")\n",
    "print(f\"Thong ke {WordFrequency()}\")"
   ]
  }
 ],
 "metadata": {
  "kernelspec": {
   "display_name": "Python 3",
   "language": "python",
   "name": "python3"
  },
  "language_info": {
   "codemirror_mode": {
    "name": "ipython",
    "version": 3
   },
   "file_extension": ".py",
   "mimetype": "text/x-python",
   "name": "python",
   "nbconvert_exporter": "python",
   "pygments_lexer": "ipython3",
   "version": "3.12.3"
  }
 },
 "nbformat": 4,
 "nbformat_minor": 2
}
