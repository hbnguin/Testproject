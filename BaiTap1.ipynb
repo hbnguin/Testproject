{
 "cells": [
  {
   "cell_type": "code",
   "execution_count": 2,
   "metadata": {},
   "outputs": [
    {
     "name": "stdout",
     "output_type": "stream",
     "text": [
      "Sorted pairs: [(1, 4), (2, 2), (2, 5), (3, 0), (4, 1), (4, 6), (4, 7), (8, 3), (9, 8)]\n",
      "Original index of element 4: [1, 6, 7]\n"
     ]
    }
   ],
   "source": [
    "def sort(pairs):\n",
    "    n = len(pairs)\n",
    "    for i in range(n - 1):\n",
    "        for j in range(i + 1, n):\n",
    "            if pairs[i][0] > pairs[j][0]:\n",
    "                pairs[i], pairs[j] = pairs[j], pairs[i]\n",
    "    print(\"Sorted pairs:\", pairs) \n",
    "    return pairs\n",
    "\n",
    "def binsearch(pairs, value):\n",
    "    newpairs = sort(pairs)\n",
    "    start = 0                \n",
    "    end = len(newpairs) - 1\n",
    "    found_indices = []  #lưu chỉ số\n",
    "\n",
    "    while start <= end:\n",
    "        mid = (start + end) // 2  \n",
    "        if newpairs[mid][0] == value:\n",
    "            found_indices.append(newpairs[mid][1])\n",
    "            \n",
    "            left = mid - 1\n",
    "            while left >= 0 and newpairs[left][0] == value:\n",
    "                found_indices.append(newpairs[left][1])\n",
    "                left -= 1\n",
    "            \n",
    "            right = mid + 1\n",
    "            while right < len(newpairs) and newpairs[right][0] == value:\n",
    "                found_indices.append(newpairs[right][1])\n",
    "                right += 1\n",
    "\n",
    "            break\n",
    "        elif value > newpairs[mid][0]:\n",
    "            start = mid + 1\n",
    "        else:\n",
    "            end = mid - 1\n",
    "    \n",
    "    if not found_indices:\n",
    "        return \"None\" \n",
    "    \n",
    "    return sorted(found_indices)\n",
    "\n",
    "newList = [3, 4, 2, 8, 1, 2, 4, 4 ,9]\n",
    "pairs = [(newList[i], i) for i in range(len(newList))]\n",
    "print(\"Original index of element 4:\", binsearch(pairs, 4))\n"
   ]
  },
  {
   "cell_type": "code",
   "execution_count": null,
   "metadata": {},
   "outputs": [],
   "source": [
    "3\n",
    "gfmfg\n"
   ]
  },
  {
   "cell_type": "code",
   "execution_count": 17,
   "metadata": {},
   "outputs": [
    {
     "name": "stdout",
     "output_type": "stream",
     "text": [
      "5+i*3\n",
      "5.830951894845301\n"
     ]
    }
   ],
   "source": [
    "class Complex(object):\n",
    "    __real__ = 0\n",
    "    __imag__ = 0\n",
    "\n",
    "    def __init__(self, x, y):\n",
    "        self.__real__ = x\n",
    "        self.__imag__ = y\n",
    "\n",
    "    def __str__(self):\n",
    "        return str(self.__real__) + \"+i*\" + str(self.__imag__)\n",
    "    \n",
    "    def module(self):\n",
    "        return math.sqrt(self.__real__**2 + self.__imag__**2)\n",
    "\n",
    "s = Complex(5 , 3)\n",
    "print(s)\n",
    "print(s.module())"
   ]
  }
 ],
 "metadata": {
  "kernelspec": {
   "display_name": "Python 3",
   "language": "python",
   "name": "python3"
  },
  "language_info": {
   "codemirror_mode": {
    "name": "ipython",
    "version": 3
   },
   "file_extension": ".py",
   "mimetype": "text/x-python",
   "name": "python",
   "nbconvert_exporter": "python",
   "pygments_lexer": "ipython3",
   "version": "3.12.3"
  }
 },
 "nbformat": 4,
 "nbformat_minor": 2
}
