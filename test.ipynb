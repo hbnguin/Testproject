{
 "cells": [
  {
   "cell_type": "code",
   "execution_count": 2,
   "metadata": {},
   "outputs": [
    {
     "name": "stdout",
     "output_type": "stream",
     "text": [
      "1: 4\n",
      "2: 2, 5\n",
      "3: 0\n",
      "4: 1, 6, 7\n",
      "8: 3\n",
      "9: 8\n"
     ]
    },
    {
     "ename": "TypeError",
     "evalue": "'<' not supported between instances of 'tuple' and 'int'",
     "output_type": "error",
     "traceback": [
      "\u001b[1;31m---------------------------------------------------------------------------\u001b[0m",
      "\u001b[1;31mTypeError\u001b[0m                                 Traceback (most recent call last)",
      "Cell \u001b[1;32mIn[2], line 46\u001b[0m\n\u001b[0;32m     43\u001b[0m     \u001b[38;5;28mprint\u001b[39m(\u001b[38;5;124mf\u001b[39m\u001b[38;5;124m\"\u001b[39m\u001b[38;5;132;01m{\u001b[39;00mvalue\u001b[38;5;132;01m}\u001b[39;00m\u001b[38;5;124m: \u001b[39m\u001b[38;5;132;01m{\u001b[39;00m\u001b[38;5;124m'\u001b[39m\u001b[38;5;124m, \u001b[39m\u001b[38;5;124m'\u001b[39m\u001b[38;5;241m.\u001b[39mjoin(\u001b[38;5;28mmap\u001b[39m(\u001b[38;5;28mstr\u001b[39m,\u001b[38;5;250m \u001b[39mindices))\u001b[38;5;132;01m}\u001b[39;00m\u001b[38;5;124m\"\u001b[39m)\n\u001b[0;32m     45\u001b[0m sorted_pairs \u001b[38;5;241m=\u001b[39m sort([(newList[i], i) \u001b[38;5;28;01mfor\u001b[39;00m i \u001b[38;5;129;01min\u001b[39;00m \u001b[38;5;28mrange\u001b[39m(\u001b[38;5;28mlen\u001b[39m(newList))])\n\u001b[1;32m---> 46\u001b[0m \u001b[38;5;28mprint\u001b[39m(\u001b[38;5;124m\"\u001b[39m\u001b[38;5;124mOriginal index of element 4:\u001b[39m\u001b[38;5;124m\"\u001b[39m, \u001b[43mbinsearch\u001b[49m\u001b[43m(\u001b[49m\u001b[43msorted_pairs\u001b[49m\u001b[43m,\u001b[49m\u001b[43m \u001b[49m\u001b[38;5;241;43m4\u001b[39;49m\u001b[43m)\u001b[49m)\n",
      "Cell \u001b[1;32mIn[2], line 30\u001b[0m, in \u001b[0;36mbinsearch\u001b[1;34m(sorted_list, target)\u001b[0m\n\u001b[0;32m     28\u001b[0m \u001b[38;5;28;01mif\u001b[39;00m mid_value \u001b[38;5;241m==\u001b[39m target:\n\u001b[0;32m     29\u001b[0m     \u001b[38;5;28;01mreturn\u001b[39;00m mid  \u001b[38;5;66;03m# Hoặc return mid_value nếu chỉ cần giá trị\u001b[39;00m\n\u001b[1;32m---> 30\u001b[0m \u001b[38;5;28;01melif\u001b[39;00m \u001b[43mmid_value\u001b[49m\u001b[43m \u001b[49m\u001b[38;5;241;43m<\u001b[39;49m\u001b[43m \u001b[49m\u001b[43mtarget\u001b[49m:\n\u001b[0;32m     31\u001b[0m     left \u001b[38;5;241m=\u001b[39m mid \u001b[38;5;241m+\u001b[39m \u001b[38;5;241m1\u001b[39m\n\u001b[0;32m     32\u001b[0m \u001b[38;5;28;01melse\u001b[39;00m:\n",
      "\u001b[1;31mTypeError\u001b[0m: '<' not supported between instances of 'tuple' and 'int'"
     ]
    }
   ],
   "source": [
    "def sort(pairs):\n",
    "    n = len(pairs)\n",
    "    for i in range(n - 1):\n",
    "        for j in range(i + 1, n):\n",
    "            if pairs[i][0] > pairs[j][0]:\n",
    "                pairs[i], pairs[j] = pairs[j], pairs[i]\n",
    "    return pairs\n",
    "\n",
    "def find_all_positions(newList):\n",
    "    pairs = [(newList[i], i) for i in range(len(newList))]\n",
    "    sorted_pairs = sort(pairs)\n",
    "\n",
    "    positions_dict = {}\n",
    "\n",
    "    for value, index in sorted_pairs:\n",
    "        if value not in positions_dict:\n",
    "            positions_dict[value] = []\n",
    "        positions_dict[value].append(index)\n",
    "    return positions_dict\n",
    "\n",
    "def binsearch(sorted_list, target):\n",
    "    left, right = 0, len(sorted_list) - 1\n",
    "    \n",
    "    while left <= right:\n",
    "        mid = (left + right) // 2\n",
    "        mid_value = sorted_list[mid]\n",
    "        \n",
    "        if mid_value == target:\n",
    "            return mid  # Hoặc return mid_value nếu chỉ cần giá trị\n",
    "        elif mid_value < target:\n",
    "            left = mid + 1\n",
    "        else:\n",
    "            right = mid - 1\n",
    "    \n",
    "    return -1  # Không tìm thấy phần tử\n",
    "\n",
    "\n",
    "newList = [3, 4, 2, 8, 1, 2, 4, 4, 9]\n",
    "\n",
    "positions = find_all_positions(newList)\n",
    "\n",
    "for value, indices in positions.items():\n",
    "    print(f\"{value}: {', '.join(map(str, indices))}\")\n",
    "\n",
    "sorted_pairs = sort([(newList[i], i) for i in range(len(newList))])\n",
    "print(\"Original index of element 4:\", binsearch(sorted_pairs, 4))\n"
   ]
  }
 ],
 "metadata": {
  "kernelspec": {
   "display_name": "Python 3",
   "language": "python",
   "name": "python3"
  },
  "language_info": {
   "codemirror_mode": {
    "name": "ipython",
    "version": 3
   },
   "file_extension": ".py",
   "mimetype": "text/x-python",
   "name": "python",
   "nbconvert_exporter": "python",
   "pygments_lexer": "ipython3",
   "version": "3.12.3"
  }
 },
 "nbformat": 4,
 "nbformat_minor": 2
}
