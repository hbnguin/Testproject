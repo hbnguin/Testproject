{
 "cells": [
  {
   "cell_type": "code",
   "execution_count": 3,
   "metadata": {},
   "outputs": [
    {
     "name": "stdout",
     "output_type": "stream",
     "text": [
      "com_alpha: 3+9*i | com_alpha_Modulo: 9.487\n",
      "com_beta: 5+7*i | com_beta_Modulo: 8.602\n",
      "Sum: 8+16*i\n",
      "Sub: -2+2*i\n",
      "Multi: -48+66*i\n",
      "Divide: 1.054+0.324*i\n",
      "Lien Hop: alpha: 3-9*i beta: 5-7*i\n"
     ]
    }
   ],
   "source": [
    "import math\n",
    "\n",
    "class Complex():\n",
    "\n",
    "    __real__ = 0\n",
    "    __imag__ = 0\n",
    "\n",
    "    def __init__(self, x, y):\n",
    "        self.__real__ = x\n",
    "        self.__imag__ = y\n",
    "    \n",
    "    def __str__(self):\n",
    "        value = self.__imag__ if self.__imag__ >= 0 else self.__imag__ * -1\n",
    "        if self.__imag__ > 0:\n",
    "            ValueFormat = f\"+{value}*i\"\n",
    "        else:\n",
    "            ValueFormat = f\"-{value}*i\"\n",
    "        return str(self.__real__) + str(ValueFormat)\n",
    "\n",
    "\n",
    "    def Modulo(self):\n",
    "        return round(math.sqrt(self.__real__ ** 2 + self.__imag__ ** 2), 3)\n",
    "    \n",
    "    #Operator\n",
    "    def __add__ (self, other):\n",
    "        return Complex(self.__real__ + other.__real__, self.__imag__ + other.__imag__)\n",
    "    \n",
    "    def __sub__ (self, other):\n",
    "        return Complex(self.__real__ - other.__real__, self.__imag__ - other.__imag__)\n",
    "    \n",
    "    def __mul__(self, other):\n",
    "        real_part = self.__real__ * other.__real__ - self.__imag__ * other.__imag__\n",
    "        imaginary_part = self.__real__ * other.__imag__ + self.__imag__ * other.__real__\n",
    "        return Complex(real_part, imaginary_part)\n",
    "    \n",
    "    def __truediv__(self, other):\n",
    "        deno = other.__real__**2 + other.__imag__**2\n",
    "        if(deno == 0): \n",
    "            return \"Khong the chia cho 0\"\n",
    "        real_part = round((self.__real__ * other.__real__ + self.__imag__* other.__imag__) / deno, 3)\n",
    "        imaginary_part = round((self.__imag__ * other.__real__ - self.__real__ * other.__imag__) / deno, 3)\n",
    "        return Complex(real_part, imaginary_part)\n",
    "    \n",
    "    def conjugate(self):\n",
    "        return Complex(self.__real__, -self.__imag__)\n",
    "    \n",
    "#Init\n",
    "com_alpha = Complex(3, 9)\n",
    "com_beta = Complex(5 , 7)\n",
    "comsum = com_alpha + com_beta\n",
    "comsub = com_alpha - com_beta\n",
    "commulti = com_alpha * com_beta\n",
    "comdiv = com_alpha / com_beta\n",
    "comlienhop_alpha = com_alpha.conjugate()\n",
    "comlienhop_beta = com_beta.conjugate()\n",
    "\n",
    "#Result\n",
    "print(f\"com_alpha: {com_alpha} | com_alpha_Modulo: {(com_alpha).Modulo()}\")\n",
    "print(f\"com_beta: {com_beta} | com_beta_Modulo: {(com_beta).Modulo()}\")\n",
    "print(f\"Sum: {comsum}\")\n",
    "print(f\"Sub: {comsub}\")\n",
    "print(f\"Multi: {commulti}\")\n",
    "print(f\"Divide: {comdiv}\")\n",
    "print(f\"Lien Hop: alpha: {comlienhop_alpha} beta: {comlienhop_beta}\")"
   ]
  }
 ],
 "metadata": {
  "kernelspec": {
   "display_name": "Python 3",
   "language": "python",
   "name": "python3"
  },
  "language_info": {
   "codemirror_mode": {
    "name": "ipython",
    "version": 3
   },
   "file_extension": ".py",
   "mimetype": "text/x-python",
   "name": "python",
   "nbconvert_exporter": "python",
   "pygments_lexer": "ipython3",
   "version": "3.12.3"
  }
 },
 "nbformat": 4,
 "nbformat_minor": 2
}
